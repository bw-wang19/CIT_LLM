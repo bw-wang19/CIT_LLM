{
 "cells": [
  {
   "cell_type": "code",
   "execution_count": 8,
   "metadata": {},
   "outputs": [
    {
     "name": "stderr",
     "output_type": "stream",
     "text": [
      "/opt/conda/envs/amadeus/lib/python3.11/site-packages/tqdm/auto.py:21: TqdmWarning: IProgress not found. Please update jupyter and ipywidgets. See https://ipywidgets.readthedocs.io/en/stable/user_install.html\n",
      "  from .autonotebook import tqdm as notebook_tqdm\n"
     ]
    }
   ],
   "source": [
    "import transformers\n",
    "import torch\n",
    "import numpy as np\n",
    "import gc\n",
    "import tempfile\n",
    "\n",
    "from transformers import (LlamaForCausalLM, \n",
    "                          LlamaTokenizer,\n",
    "                          AutoTokenizer, \n",
    "                          AutoModelForCausalLM)\n",
    "\n",
    "from typing import List, Dict, Any\n"
   ]
  },
  {
   "cell_type": "markdown",
   "metadata": {},
   "source": [
    "### 加载模型"
   ]
  },
  {
   "cell_type": "code",
   "execution_count": 14,
   "metadata": {},
   "outputs": [
    {
     "name": "stderr",
     "output_type": "stream",
     "text": [
      "Loading checkpoint shards: 100%|██████████| 2/2 [00:02<00:00,  1.32s/it]\n"
     ]
    },
    {
     "name": "stdout",
     "output_type": "stream",
     "text": [
      "LlamaForCausalLM(\n",
      "  (model): LlamaModel(\n",
      "    (embed_tokens): Embedding(32000, 4096)\n",
      "    (layers): ModuleList(\n",
      "      (0-31): 32 x LlamaDecoderLayer(\n",
      "        (self_attn): LlamaSdpaAttention(\n",
      "          (q_proj): Linear(in_features=4096, out_features=4096, bias=False)\n",
      "          (k_proj): Linear(in_features=4096, out_features=4096, bias=False)\n",
      "          (v_proj): Linear(in_features=4096, out_features=4096, bias=False)\n",
      "          (o_proj): Linear(in_features=4096, out_features=4096, bias=False)\n",
      "          (rotary_emb): LlamaRotaryEmbedding()\n",
      "        )\n",
      "        (mlp): LlamaMLP(\n",
      "          (gate_proj): Linear(in_features=4096, out_features=11008, bias=False)\n",
      "          (up_proj): Linear(in_features=4096, out_features=11008, bias=False)\n",
      "          (down_proj): Linear(in_features=11008, out_features=4096, bias=False)\n",
      "          (act_fn): SiLU()\n",
      "        )\n",
      "        (input_layernorm): LlamaRMSNorm()\n",
      "        (post_attention_layernorm): LlamaRMSNorm()\n",
      "      )\n",
      "    )\n",
      "    (norm): LlamaRMSNorm()\n",
      "    (rotary_emb): LlamaRotaryEmbedding()\n",
      "  )\n",
      "  (lm_head): Linear(in_features=4096, out_features=32000, bias=False)\n",
      ")\n"
     ]
    }
   ],
   "source": [
    "model_path = '/workspace/acl/model_zoo/llama/llama-2-7b-chat-hf'\n",
    "tokenizer = AutoTokenizer.from_pretrained(model_path,trust_remote_code=False, device_map = \"auto\")\n",
    "model = AutoModelForCausalLM.from_pretrained(model_path, trust_remote_code=True)"
   ]
  },
  {
   "cell_type": "markdown",
   "metadata": {},
   "source": [
    "### 加载模型参数"
   ]
  },
  {
   "cell_type": "code",
   "execution_count": null,
   "metadata": {},
   "outputs": [],
   "source": [
    "def load_model(model_name_or_path, trust_remote_code:bool=True, device_map=\"auto\"):\n",
    "    model = AutoModelForCausalLM(model_name_or_path, trust_remote_code=trust_remote_code, device_map=device_map)\n",
    "    return model\n",
    "\n",
    "def get_model_param_list(model_names: List[str], model_type:str):\n",
    "    model_param_list = []\n",
    "    for name in model_names:\n",
    "        print(f\"loading {name} -----------------\")\n",
    "        model = load_model(name, model_type=model_type)\n",
    "        model_param_list.append(model.state_dict())\n",
    "    return model_param_list\n"
   ]
  },
  {
   "cell_type": "markdown",
   "metadata": {},
   "source": [
    "### 模型融合"
   ]
  },
  {
   "cell_type": "code",
   "execution_count": null,
   "metadata": {},
   "outputs": [],
   "source": [
    "def merge_param(model_param_list: List[Dict], weights: List[float]):\n",
    "    new_param = {}\n",
    "    for k in model_param_list[0].keys():\n",
    "        for w, param in zip(weights, model_param_list):\n",
    "            if param[k].dtype == torch.int64 or param[k].dtype == torch.int32:\n",
    "                new_param[k] = param[k]\n",
    "            elif k not in new_param:\n",
    "                new_param[k] = w * param[k]\n",
    "            else:\n",
    "                new_param[k] += w * param[k]\n",
    "    return new_param"
   ]
  },
  {
   "cell_type": "code",
   "execution_count": 6,
   "metadata": {},
   "outputs": [
    {
     "name": "stdout",
     "output_type": "stream",
     "text": [
      "2\n"
     ]
    },
    {
     "data": {
      "text/plain": [
       "True"
      ]
     },
     "execution_count": 6,
     "metadata": {},
     "output_type": "execute_result"
    }
   ],
   "source": [
    "def test(**kwargs):\n",
    "    if 'a' in kwargs.keys():\n",
    "        print(kwargs['a'])\n",
    "        return True\n",
    "    \n",
    "test(a=2)"
   ]
  },
  {
   "cell_type": "code",
   "execution_count": 33,
   "metadata": {},
   "outputs": [
    {
     "name": "stdout",
     "output_type": "stream",
     "text": [
      "model.embed_tokens.weight tensor(0.0012)\n",
      "model.embed_tokens.weight tensor(0.0024)\n",
      "model.embed_tokens.weight tensor(0.0012)\n",
      "model.embed_tokens.weight tensor(0.0024)\n"
     ]
    }
   ],
   "source": [
    "import copy\n",
    "# print(model.state_dict())\n",
    "a = copy.deepcopy(model)\n",
    "for idx, k in enumerate(a.state_dict().keys()):\n",
    "    if idx > 0:\n",
    "        break\n",
    "    print(k, a.state_dict()[k][0,0])\n",
    "    a.state_dict()[k] *= 2\n",
    "    print(k, a.state_dict()[k][0,0])\n",
    "    print(k, model.state_dict()[k][0,0])\n",
    "    model.load_state_dict(a.state_dict())\n",
    "    print(k, model.state_dict()[k][0,0])\n",
    "    \n"
   ]
  },
  {
   "cell_type": "markdown",
   "metadata": {},
   "source": [
    "### 在python中调用bash命令"
   ]
  },
  {
   "cell_type": "code",
   "execution_count": 9,
   "metadata": {},
   "outputs": [
    {
     "name": "stderr",
     "output_type": "stream",
     "text": [
      "Loading checkpoint shards: 100%|██████████| 2/2 [00:02<00:00,  1.09s/it]\n",
      "We detected that you are passing `past_key_values` as a tuple and this is deprecated and will be removed in v4.43. Please use an appropriate `Cache` class (https://huggingface.co/docs/transformers/v4.41.3/en/internal/generation_utils#transformers.Cache)\n",
      "Traceback (most recent call last):\n",
      "  File \"/workspace/acl/wbw_test.py\", line 17, in <module>\n",
      "    print(tokenizer.decode(outputs))\n",
      "          ^^^^^^^^^^^^^^^^^^^^^^^^^\n",
      "  File \"/opt/conda/envs/amadeus/lib/python3.11/site-packages/transformers/tokenization_utils_base.py\", line 4034, in decode\n",
      "    return self._decode(\n",
      "           ^^^^^^^^^^^^^\n",
      "  File \"/opt/conda/envs/amadeus/lib/python3.11/site-packages/transformers/tokenization_utils_fast.py\", line 651, in _decode\n",
      "    text = self._tokenizer.decode(token_ids, skip_special_tokens=skip_special_tokens)\n",
      "           ^^^^^^^^^^^^^^^^^^^^^^^^^^^^^^^^^^^^^^^^^^^^^^^^^^^^^^^^^^^^^^^^^^^^^^^^^^\n",
      "TypeError: argument 'ids': 'dict' object cannot be converted to 'Sequence'\n"
     ]
    }
   ],
   "source": [
    "import subprocess\n",
    "import os\n",
    "# output = subprocess.run(['python', 'wbw_test.py'])\n",
    "#print(output.decode())\n",
    "output2 = os.system('python wbw_test.py')\n",
    "#print(output2)"
   ]
  },
  {
   "cell_type": "code",
   "execution_count": 10,
   "metadata": {},
   "outputs": [
    {
     "name": "stdout",
     "output_type": "stream",
     "text": [
      "1\n"
     ]
    }
   ],
   "source": [
    "import os\n",
    "with open('test.txt', mode='w', encoding='utf-8') as f:\n",
    "    print(1)"
   ]
  },
  {
   "cell_type": "code",
   "execution_count": null,
   "metadata": {},
   "outputs": [],
   "source": []
  },
  {
   "cell_type": "code",
   "execution_count": null,
   "metadata": {},
   "outputs": [],
   "source": []
  },
  {
   "cell_type": "markdown",
   "metadata": {},
   "source": [
    "## 加载CITB数据集"
   ]
  },
  {
   "cell_type": "code",
   "execution_count": 6,
   "metadata": {},
   "outputs": [],
   "source": [
    "from datasets import *\n",
    "import os\n"
   ]
  },
  {
   "cell_type": "code",
   "execution_count": null,
   "metadata": {},
   "outputs": [],
   "source": [
    "path = '/workspace/acl/datasets/CITB/data/CIT_data/initial_multitask_learning/defintion_pos_2/train'\n",
    "dataset = load_from_disk(path)"
   ]
  }
 ],
 "metadata": {
  "kernelspec": {
   "display_name": "amadeus",
   "language": "python",
   "name": "python3"
  },
  "language_info": {
   "codemirror_mode": {
    "name": "ipython",
    "version": 3
   },
   "file_extension": ".py",
   "mimetype": "text/x-python",
   "name": "python",
   "nbconvert_exporter": "python",
   "pygments_lexer": "ipython3",
   "version": "3.11.9"
  }
 },
 "nbformat": 4,
 "nbformat_minor": 2
}
