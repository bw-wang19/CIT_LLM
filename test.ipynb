{
 "cells": [
  {
   "cell_type": "code",
   "execution_count": null,
   "metadata": {},
   "outputs": [],
   "source": [
    "import transformers\n",
    "import torch\n",
    "import numpy as np\n",
    "import gc\n",
    "import tempfile\n",
    "\n",
    "from transformers import (LlamaForCausalLM, \n",
    "                          LlamaTokenizer,\n",
    "                          AutoTokenizer, \n",
    "                          AutoModelForCausalLM)\n",
    "\n",
    "from typing import List, Dict, Any\n"
   ]
  },
  {
   "cell_type": "markdown",
   "metadata": {},
   "source": [
    "### 加载模型"
   ]
  },
  {
   "cell_type": "code",
   "execution_count": null,
   "metadata": {},
   "outputs": [],
   "source": [
    "model_path = '/workspace/acl/model_zoo/llama/llama-2-7b-chat-hf'\n",
    "tokenizer = AutoTokenizer.from_pretrained(model_path,trust_remote_code=False, device_map = \"auto\")\n",
    "model = AutoModelForCausalLM.from_pretrained(model_path, trust_remote_code=True)"
   ]
  },
  {
   "cell_type": "markdown",
   "metadata": {},
   "source": [
    "### 加载模型参数"
   ]
  },
  {
   "cell_type": "code",
   "execution_count": null,
   "metadata": {},
   "outputs": [],
   "source": [
    "def load_model(model_name_or_path, trust_remote_code:bool=True, device_map=\"auto\"):\n",
    "    model = AutoModelForCausalLM(model_name_or_path, trust_remote_code=trust_remote_code, device_map=device_map)\n",
    "    return model\n",
    "\n",
    "def get_model_param_list(model_names: List[str], model_type:str):\n",
    "    model_param_list = []\n",
    "    for name in model_names:\n",
    "        print(f\"loading {name} -----------------\")\n",
    "        model = load_model(name, model_type=model_type)\n",
    "        model_param_list.append(model.state_dict())\n",
    "    return model_param_list\n"
   ]
  },
  {
   "cell_type": "markdown",
   "metadata": {},
   "source": [
    "### 模型融合"
   ]
  },
  {
   "cell_type": "code",
   "execution_count": null,
   "metadata": {},
   "outputs": [],
   "source": [
    "def merge_param(model_param_list: List[Dict], weights: List[float]):\n",
    "    new_param = {}\n",
    "    for k in model_param_list[0].keys():\n",
    "        for w, param in zip(weights, model_param_list):\n",
    "            if param[k].dtype == torch.int64 or param[k].dtype == torch.int32:\n",
    "                new_param[k] = param[k]\n",
    "            elif k not in new_param:\n",
    "                new_param[k] = w * param[k]\n",
    "            else:\n",
    "                new_param[k] += w * param[k]\n",
    "    return new_param"
   ]
  },
  {
   "cell_type": "code",
   "execution_count": null,
   "metadata": {},
   "outputs": [],
   "source": [
    "def test(**kwargs):\n",
    "    if 'a' in kwargs.keys():\n",
    "        print(kwargs['a'])\n",
    "        return True\n",
    "    \n",
    "test(a=2)"
   ]
  },
  {
   "cell_type": "code",
   "execution_count": null,
   "metadata": {},
   "outputs": [],
   "source": [
    "import copy\n",
    "# print(model.state_dict())\n",
    "a = copy.deepcopy(model)\n",
    "for idx, k in enumerate(a.state_dict().keys()):\n",
    "    if idx > 0:\n",
    "        break\n",
    "    print(k, a.state_dict()[k][0,0])\n",
    "    a.state_dict()[k] *= 2\n",
    "    print(k, a.state_dict()[k][0,0])\n",
    "    print(k, model.state_dict()[k][0,0])\n",
    "    model.load_state_dict(a.state_dict())\n",
    "    print(k, model.state_dict()[k][0,0])\n",
    "    \n"
   ]
  },
  {
   "cell_type": "markdown",
   "metadata": {},
   "source": [
    "### 在python中调用bash命令"
   ]
  },
  {
   "cell_type": "code",
   "execution_count": null,
   "metadata": {},
   "outputs": [],
   "source": [
    "import subprocess\n",
    "import os\n",
    "# output = subprocess.run(['python', 'wbw_test.py'])\n",
    "#print(output.decode())\n",
    "output2 = os.system('python wbw_test.py')\n",
    "#print(output2)"
   ]
  },
  {
   "cell_type": "code",
   "execution_count": null,
   "metadata": {},
   "outputs": [],
   "source": [
    "import os\n",
    "with open('test.txt', mode='w', encoding='utf-8') as f:\n",
    "    print(1)"
   ]
  },
  {
   "cell_type": "code",
   "execution_count": null,
   "metadata": {},
   "outputs": [],
   "source": []
  },
  {
   "cell_type": "code",
   "execution_count": null,
   "metadata": {},
   "outputs": [],
   "source": [
    "import sys\n",
    "print(sys._path__)"
   ]
  },
  {
   "cell_type": "markdown",
   "metadata": {},
   "source": [
    "## 加载CITB数据集"
   ]
  },
  {
   "cell_type": "code",
   "execution_count": 2,
   "metadata": {},
   "outputs": [
    {
     "ename": "ModuleNotFoundError",
     "evalue": "No module named 'tabulate'",
     "output_type": "error",
     "traceback": [
      "\u001b[0;31m---------------------------------------------------------------------------\u001b[0m",
      "\u001b[0;31mModuleNotFoundError\u001b[0m                       Traceback (most recent call last)",
      "Cell \u001b[0;32mIn[2], line 2\u001b[0m\n\u001b[1;32m      1\u001b[0m \u001b[38;5;28;01mfrom\u001b[39;00m \u001b[38;5;21;01mdatasets\u001b[39;00m \u001b[38;5;28;01mimport\u001b[39;00m \u001b[38;5;241m*\u001b[39m\n\u001b[0;32m----> 2\u001b[0m \u001b[38;5;28;01mfrom\u001b[39;00m \u001b[38;5;21;01mds\u001b[39;00m \u001b[38;5;28;01mimport\u001b[39;00m \u001b[38;5;241m*\u001b[39m\n\u001b[1;32m      3\u001b[0m \u001b[38;5;28;01mimport\u001b[39;00m \u001b[38;5;21;01mjson\u001b[39;00m\n",
      "File \u001b[0;32m/workspace/acl/ds/__init__.py:2\u001b[0m\n\u001b[1;32m      1\u001b[0m \u001b[38;5;28;01mfrom\u001b[39;00m \u001b[38;5;21;01m.\u001b[39;00m\u001b[38;5;21;01msuper_glue\u001b[39;00m \u001b[38;5;28;01mimport\u001b[39;00m \u001b[38;5;241m*\u001b[39m\n\u001b[0;32m----> 2\u001b[0m \u001b[38;5;28;01mfrom\u001b[39;00m \u001b[38;5;21;01m.\u001b[39;00m\u001b[38;5;21;01mCITB\u001b[39;00m\u001b[38;5;21;01m.\u001b[39;00m\u001b[38;5;21;01mcontinual_learning\u001b[39;00m\u001b[38;5;21;01m.\u001b[39;00m\u001b[38;5;21;01mutils\u001b[39;00m \u001b[38;5;28;01mimport\u001b[39;00m (\n\u001b[1;32m      3\u001b[0m     train_dev_test_split_by_task\n\u001b[1;32m      4\u001b[0m )\n",
      "File \u001b[0;32m/workspace/acl/ds/CITB/__init__.py:3\u001b[0m\n\u001b[0;32m----> 3\u001b[0m \u001b[38;5;28;01mfrom\u001b[39;00m \u001b[38;5;21;01m.\u001b[39;00m\u001b[38;5;21;01mcontinual_learning\u001b[39;00m\u001b[38;5;21;01m.\u001b[39;00m\u001b[38;5;21;01mutils\u001b[39;00m \u001b[38;5;28;01mimport\u001b[39;00m (\n\u001b[1;32m      4\u001b[0m     train_dev_test_split_by_task\n\u001b[1;32m      5\u001b[0m )\n",
      "File \u001b[0;32m/workspace/acl/ds/CITB/continual_learning/__init__.py:2\u001b[0m\n\u001b[0;32m----> 2\u001b[0m \u001b[38;5;28;01mfrom\u001b[39;00m \u001b[38;5;21;01m.\u001b[39;00m\u001b[38;5;21;01mutils\u001b[39;00m \u001b[38;5;28;01mimport\u001b[39;00m \u001b[38;5;241m*\u001b[39m\n",
      "File \u001b[0;32m/workspace/acl/ds/CITB/continual_learning/utils.py:4\u001b[0m\n\u001b[1;32m      2\u001b[0m \u001b[38;5;28;01mfrom\u001b[39;00m \u001b[38;5;21;01mcollections\u001b[39;00m \u001b[38;5;28;01mimport\u001b[39;00m defaultdict\n\u001b[1;32m      3\u001b[0m \u001b[38;5;28;01mimport\u001b[39;00m \u001b[38;5;21;01mrandom\u001b[39;00m\n\u001b[0;32m----> 4\u001b[0m \u001b[38;5;28;01mfrom\u001b[39;00m \u001b[38;5;21;01mtabulate\u001b[39;00m \u001b[38;5;28;01mimport\u001b[39;00m tabulate\n\u001b[1;32m      5\u001b[0m \u001b[38;5;28;01mimport\u001b[39;00m \u001b[38;5;21;01msys\u001b[39;00m\n\u001b[1;32m      8\u001b[0m \u001b[38;5;28;01mdef\u001b[39;00m \u001b[38;5;21mget_data_statistics\u001b[39m(train_instances, dev_instances, test_instances):\n",
      "\u001b[0;31mModuleNotFoundError\u001b[0m: No module named 'tabulate'"
     ]
    }
   ],
   "source": [
    "from datasets import *\n",
    "from ds import *\n",
    "import json"
   ]
  },
  {
   "cell_type": "code",
   "execution_count": 10,
   "metadata": {},
   "outputs": [],
   "source": [
    "json_path = '/workspace/acl/ds/CITB/data/tasks/task001_quoref_question_generation.json'\n",
    "with open(json_path, 'r', encoding='utf-8') as f:\n",
    "    \n",
    "    j = json.load(f)\n",
    "\n"
   ]
  },
  {
   "cell_type": "code",
   "execution_count": null,
   "metadata": {},
   "outputs": [],
   "source": [
    "raw_datasets = load_dataset(\n",
    "        # \"src/ni_dataset.py\", \n",
    "        \"/workspace/acl/ds/CITB/continual_learning/ni_dataset_for_cl.py\", # use modified dadatset script\n",
    "        data_dir='/workspace/acl/ds/CITB/data/CIT_data/initial_multitask_learning', \n",
    "        task_dir='/workspace/acl/ds/CITB/data/tasks/', \n",
    "        cache_dir='./cache',\n",
    "        max_num_instances_per_task=5000,\n",
    "        max_num_instances_per_eval_task=50,\n",
    "        task_split_file_name='train_tasks',\n",
    "        load_official_test=False    # instead we load the official test set below\n",
    "    )"
   ]
  },
  {
   "cell_type": "code",
   "execution_count": null,
   "metadata": {},
   "outputs": [],
   "source": [
    "len(j['Positive Examples'])"
   ]
  },
  {
   "cell_type": "code",
   "execution_count": 14,
   "metadata": {},
   "outputs": [],
   "source": [
    "path = '/workspace/acl/ds/CITB/data/CIT_data/initial_multitask_learning/defintion_pos_2/train'\n",
    "dataset = load_from_disk(path)"
   ]
  },
  {
   "cell_type": "code",
   "execution_count": null,
   "metadata": {},
   "outputs": [],
   "source": [
    "dataset"
   ]
  },
  {
   "cell_type": "code",
   "execution_count": null,
   "metadata": {},
   "outputs": [],
   "source": [
    "len(dataset['Instance'])"
   ]
  },
  {
   "cell_type": "code",
   "execution_count": null,
   "metadata": {},
   "outputs": [],
   "source": [
    "# dataset['Task']\n",
    "for t in dataset['Task']:\n",
    "    print(t)\n",
    "    break"
   ]
  },
  {
   "cell_type": "code",
   "execution_count": null,
   "metadata": {},
   "outputs": [],
   "source": [
    "dataset['Categories']"
   ]
  },
  {
   "cell_type": "code",
   "execution_count": null,
   "metadata": {},
   "outputs": [],
   "source": [
    "cat = []\n",
    "for c in dataset['Categories']:\n",
    "    if c in cat:\n",
    "        continue\n",
    "    cat.append(c)\n",
    "    \n",
    "cat\n",
    "\n"
   ]
  },
  {
   "cell_type": "code",
   "execution_count": null,
   "metadata": {},
   "outputs": [],
   "source": [
    "dataset['Domains']\n"
   ]
  },
  {
   "cell_type": "code",
   "execution_count": null,
   "metadata": {},
   "outputs": [],
   "source": [
    "domains = []\n",
    "for d in dataset['Domains']:\n",
    "    if d in domains:\n",
    "        continue\n",
    "    domains.append(d)\n",
    "    \n",
    "domains"
   ]
  },
  {
   "cell_type": "code",
   "execution_count": null,
   "metadata": {},
   "outputs": [],
   "source": [
    "dataset[0]['Positive Examples']\n"
   ]
  },
  {
   "cell_type": "code",
   "execution_count": null,
   "metadata": {},
   "outputs": [],
   "source": [
    "dataset[0]['Negative Examples']"
   ]
  },
  {
   "cell_type": "markdown",
   "metadata": {},
   "source": [
    "## 加载SuperGLUE数据集"
   ]
  },
  {
   "cell_type": "code",
   "execution_count": 33,
   "metadata": {},
   "outputs": [],
   "source": []
  },
  {
   "cell_type": "code",
   "execution_count": 59,
   "metadata": {},
   "outputs": [],
   "source": [
    "import datasets\n",
    "import ds"
   ]
  },
  {
   "cell_type": "code",
   "execution_count": 64,
   "metadata": {},
   "outputs": [],
   "source": [
    "data = load_dataset(\n",
    "        # \"src/ni_dataset.py\", \n",
    "        \"/workspace/acl/ds/CITB/continual_learning/ni_dataset_for_cl.py\", # use modified dadatset script\n",
    "        data_dir='/workspace/acl/ds/CITB/data/CIT_data/initial_multitask_learning/defintion_pos_2', \n",
    "        task_dir='/workspace/acl/ds/CITB/data/tasks/', \n",
    "        cache_dir='./cache/',\n",
    "        max_num_instances_per_task=5000,\n",
    "        max_num_instances_per_eval_task=50,\n",
    "        task_split_file_name='train_tasks',\n",
    "        load_official_test=False    # instead we load the official test set below\n",
    "    )"
   ]
  },
  {
   "cell_type": "code",
   "execution_count": null,
   "metadata": {},
   "outputs": [],
   "source": [
    "train_instances, dev_instances, test_instances = ds.train_dev_test_split_by_task(data,\n",
    "        max_num_instances_per_task=5000,\n",
    "        max_num_instances_per_eval_task=50,\n",
    "        continual=True\n",
    "    )\n"
   ]
  },
  {
   "cell_type": "code",
   "execution_count": null,
   "metadata": {},
   "outputs": [],
   "source": [
    "state = {}\n",
    "for d in data['train']:\n",
    "    if d['Task'] in state.keys():\n",
    "        state[d['Task']] += 1\n",
    "    else:\n",
    "        state[d['Task']] = 1\n",
    "state"
   ]
  },
  {
   "cell_type": "code",
   "execution_count": 53,
   "metadata": {},
   "outputs": [],
   "source": [
    "for d in data['test']:\n",
    "  if d['Task'] in state.keys():\n",
    "    print(d['Task'])\n"
   ]
  }
 ],
 "metadata": {
  "kernelspec": {
   "display_name": "amadeus",
   "language": "python",
   "name": "python3"
  },
  "language_info": {
   "codemirror_mode": {
    "name": "ipython",
    "version": 3
   },
   "file_extension": ".py",
   "mimetype": "text/x-python",
   "name": "python",
   "nbconvert_exporter": "python",
   "pygments_lexer": "ipython3",
   "version": "3.11.9"
  }
 },
 "nbformat": 4,
 "nbformat_minor": 2
}
